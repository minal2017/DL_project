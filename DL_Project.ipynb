{
  "nbformat": 4,
  "nbformat_minor": 0,
  "metadata": {
    "colab": {
      "name": "DL_Project",
      "provenance": []
    },
    "kernelspec": {
      "display_name": "Python 3",
      "name": "python3"
    },
    "language_info": {
      "name": "python"
    }
  },
  "cells": [
    {
      "cell_type": "code",
      "metadata": {
        "id": "N0bAHH-QIG5j"
      },
      "source": [
        "import numpy as np\n",
        "import pandas as pd\n",
        "import seaborn as sns\n",
        "import matplotlib.pyplot as plt\n",
        "import tensorflow as tf\n"
      ],
      "execution_count": null,
      "outputs": []
    },
    {
      "cell_type": "code",
      "metadata": {
        "id": "4sv0v2VElxEH"
      },
      "source": [
        "df=pd.read_csv(\"/content/drive/MyDrive/DL_notebook/creditcard (2).csv\")"
      ],
      "execution_count": null,
      "outputs": []
    },
    {
      "cell_type": "code",
      "metadata": {
        "colab": {
          "base_uri": "https://localhost:8080/",
          "height": 224
        },
        "id": "wf8RQ-ZAIG8K",
        "outputId": "3b6ed4c0-424a-4e88-863f-8ee1867bd2eb"
      },
      "source": [
        "df.head()"
      ],
      "execution_count": null,
      "outputs": [
        {
          "output_type": "execute_result",
          "data": {
            "text/html": [
              "<div>\n",
              "<style scoped>\n",
              "    .dataframe tbody tr th:only-of-type {\n",
              "        vertical-align: middle;\n",
              "    }\n",
              "\n",
              "    .dataframe tbody tr th {\n",
              "        vertical-align: top;\n",
              "    }\n",
              "\n",
              "    .dataframe thead th {\n",
              "        text-align: right;\n",
              "    }\n",
              "</style>\n",
              "<table border=\"1\" class=\"dataframe\">\n",
              "  <thead>\n",
              "    <tr style=\"text-align: right;\">\n",
              "      <th></th>\n",
              "      <th>Time</th>\n",
              "      <th>V1</th>\n",
              "      <th>V2</th>\n",
              "      <th>V3</th>\n",
              "      <th>V4</th>\n",
              "      <th>V5</th>\n",
              "      <th>V6</th>\n",
              "      <th>V7</th>\n",
              "      <th>V8</th>\n",
              "      <th>V9</th>\n",
              "      <th>V10</th>\n",
              "      <th>V11</th>\n",
              "      <th>V12</th>\n",
              "      <th>V13</th>\n",
              "      <th>V14</th>\n",
              "      <th>V15</th>\n",
              "      <th>V16</th>\n",
              "      <th>V17</th>\n",
              "      <th>V18</th>\n",
              "      <th>V19</th>\n",
              "      <th>V20</th>\n",
              "      <th>V21</th>\n",
              "      <th>V22</th>\n",
              "      <th>V23</th>\n",
              "      <th>V24</th>\n",
              "      <th>V25</th>\n",
              "      <th>V26</th>\n",
              "      <th>V27</th>\n",
              "      <th>V28</th>\n",
              "      <th>Amount</th>\n",
              "      <th>Class</th>\n",
              "    </tr>\n",
              "  </thead>\n",
              "  <tbody>\n",
              "    <tr>\n",
              "      <th>0</th>\n",
              "      <td>0.0</td>\n",
              "      <td>-1.359807</td>\n",
              "      <td>-0.072781</td>\n",
              "      <td>2.536347</td>\n",
              "      <td>1.378155</td>\n",
              "      <td>-0.338321</td>\n",
              "      <td>0.462388</td>\n",
              "      <td>0.239599</td>\n",
              "      <td>0.098698</td>\n",
              "      <td>0.363787</td>\n",
              "      <td>0.090794</td>\n",
              "      <td>-0.551600</td>\n",
              "      <td>-0.617801</td>\n",
              "      <td>-0.991390</td>\n",
              "      <td>-0.311169</td>\n",
              "      <td>1.468177</td>\n",
              "      <td>-0.470401</td>\n",
              "      <td>0.207971</td>\n",
              "      <td>0.025791</td>\n",
              "      <td>0.403993</td>\n",
              "      <td>0.251412</td>\n",
              "      <td>-0.018307</td>\n",
              "      <td>0.277838</td>\n",
              "      <td>-0.110474</td>\n",
              "      <td>0.066928</td>\n",
              "      <td>0.128539</td>\n",
              "      <td>-0.189115</td>\n",
              "      <td>0.133558</td>\n",
              "      <td>-0.021053</td>\n",
              "      <td>149.62</td>\n",
              "      <td>0</td>\n",
              "    </tr>\n",
              "    <tr>\n",
              "      <th>1</th>\n",
              "      <td>0.0</td>\n",
              "      <td>1.191857</td>\n",
              "      <td>0.266151</td>\n",
              "      <td>0.166480</td>\n",
              "      <td>0.448154</td>\n",
              "      <td>0.060018</td>\n",
              "      <td>-0.082361</td>\n",
              "      <td>-0.078803</td>\n",
              "      <td>0.085102</td>\n",
              "      <td>-0.255425</td>\n",
              "      <td>-0.166974</td>\n",
              "      <td>1.612727</td>\n",
              "      <td>1.065235</td>\n",
              "      <td>0.489095</td>\n",
              "      <td>-0.143772</td>\n",
              "      <td>0.635558</td>\n",
              "      <td>0.463917</td>\n",
              "      <td>-0.114805</td>\n",
              "      <td>-0.183361</td>\n",
              "      <td>-0.145783</td>\n",
              "      <td>-0.069083</td>\n",
              "      <td>-0.225775</td>\n",
              "      <td>-0.638672</td>\n",
              "      <td>0.101288</td>\n",
              "      <td>-0.339846</td>\n",
              "      <td>0.167170</td>\n",
              "      <td>0.125895</td>\n",
              "      <td>-0.008983</td>\n",
              "      <td>0.014724</td>\n",
              "      <td>2.69</td>\n",
              "      <td>0</td>\n",
              "    </tr>\n",
              "    <tr>\n",
              "      <th>2</th>\n",
              "      <td>1.0</td>\n",
              "      <td>-1.358354</td>\n",
              "      <td>-1.340163</td>\n",
              "      <td>1.773209</td>\n",
              "      <td>0.379780</td>\n",
              "      <td>-0.503198</td>\n",
              "      <td>1.800499</td>\n",
              "      <td>0.791461</td>\n",
              "      <td>0.247676</td>\n",
              "      <td>-1.514654</td>\n",
              "      <td>0.207643</td>\n",
              "      <td>0.624501</td>\n",
              "      <td>0.066084</td>\n",
              "      <td>0.717293</td>\n",
              "      <td>-0.165946</td>\n",
              "      <td>2.345865</td>\n",
              "      <td>-2.890083</td>\n",
              "      <td>1.109969</td>\n",
              "      <td>-0.121359</td>\n",
              "      <td>-2.261857</td>\n",
              "      <td>0.524980</td>\n",
              "      <td>0.247998</td>\n",
              "      <td>0.771679</td>\n",
              "      <td>0.909412</td>\n",
              "      <td>-0.689281</td>\n",
              "      <td>-0.327642</td>\n",
              "      <td>-0.139097</td>\n",
              "      <td>-0.055353</td>\n",
              "      <td>-0.059752</td>\n",
              "      <td>378.66</td>\n",
              "      <td>0</td>\n",
              "    </tr>\n",
              "    <tr>\n",
              "      <th>3</th>\n",
              "      <td>1.0</td>\n",
              "      <td>-0.966272</td>\n",
              "      <td>-0.185226</td>\n",
              "      <td>1.792993</td>\n",
              "      <td>-0.863291</td>\n",
              "      <td>-0.010309</td>\n",
              "      <td>1.247203</td>\n",
              "      <td>0.237609</td>\n",
              "      <td>0.377436</td>\n",
              "      <td>-1.387024</td>\n",
              "      <td>-0.054952</td>\n",
              "      <td>-0.226487</td>\n",
              "      <td>0.178228</td>\n",
              "      <td>0.507757</td>\n",
              "      <td>-0.287924</td>\n",
              "      <td>-0.631418</td>\n",
              "      <td>-1.059647</td>\n",
              "      <td>-0.684093</td>\n",
              "      <td>1.965775</td>\n",
              "      <td>-1.232622</td>\n",
              "      <td>-0.208038</td>\n",
              "      <td>-0.108300</td>\n",
              "      <td>0.005274</td>\n",
              "      <td>-0.190321</td>\n",
              "      <td>-1.175575</td>\n",
              "      <td>0.647376</td>\n",
              "      <td>-0.221929</td>\n",
              "      <td>0.062723</td>\n",
              "      <td>0.061458</td>\n",
              "      <td>123.50</td>\n",
              "      <td>0</td>\n",
              "    </tr>\n",
              "    <tr>\n",
              "      <th>4</th>\n",
              "      <td>2.0</td>\n",
              "      <td>-1.158233</td>\n",
              "      <td>0.877737</td>\n",
              "      <td>1.548718</td>\n",
              "      <td>0.403034</td>\n",
              "      <td>-0.407193</td>\n",
              "      <td>0.095921</td>\n",
              "      <td>0.592941</td>\n",
              "      <td>-0.270533</td>\n",
              "      <td>0.817739</td>\n",
              "      <td>0.753074</td>\n",
              "      <td>-0.822843</td>\n",
              "      <td>0.538196</td>\n",
              "      <td>1.345852</td>\n",
              "      <td>-1.119670</td>\n",
              "      <td>0.175121</td>\n",
              "      <td>-0.451449</td>\n",
              "      <td>-0.237033</td>\n",
              "      <td>-0.038195</td>\n",
              "      <td>0.803487</td>\n",
              "      <td>0.408542</td>\n",
              "      <td>-0.009431</td>\n",
              "      <td>0.798278</td>\n",
              "      <td>-0.137458</td>\n",
              "      <td>0.141267</td>\n",
              "      <td>-0.206010</td>\n",
              "      <td>0.502292</td>\n",
              "      <td>0.219422</td>\n",
              "      <td>0.215153</td>\n",
              "      <td>69.99</td>\n",
              "      <td>0</td>\n",
              "    </tr>\n",
              "  </tbody>\n",
              "</table>\n",
              "</div>"
            ],
            "text/plain": [
              "   Time        V1        V2        V3  ...       V27       V28  Amount  Class\n",
              "0   0.0 -1.359807 -0.072781  2.536347  ...  0.133558 -0.021053  149.62      0\n",
              "1   0.0  1.191857  0.266151  0.166480  ... -0.008983  0.014724    2.69      0\n",
              "2   1.0 -1.358354 -1.340163  1.773209  ... -0.055353 -0.059752  378.66      0\n",
              "3   1.0 -0.966272 -0.185226  1.792993  ...  0.062723  0.061458  123.50      0\n",
              "4   2.0 -1.158233  0.877737  1.548718  ...  0.219422  0.215153   69.99      0\n",
              "\n",
              "[5 rows x 31 columns]"
            ]
          },
          "metadata": {
            "tags": []
          },
          "execution_count": 3
        }
      ]
    },
    {
      "cell_type": "code",
      "metadata": {
        "colab": {
          "base_uri": "https://localhost:8080/"
        },
        "id": "TMMwEIpNIHB1",
        "outputId": "20dfe83d-04c9-4559-a179-065194504a16"
      },
      "source": [
        "df.info()"
      ],
      "execution_count": null,
      "outputs": [
        {
          "output_type": "stream",
          "text": [
            "<class 'pandas.core.frame.DataFrame'>\n",
            "RangeIndex: 284807 entries, 0 to 284806\n",
            "Data columns (total 31 columns):\n",
            " #   Column  Non-Null Count   Dtype  \n",
            "---  ------  --------------   -----  \n",
            " 0   Time    284807 non-null  float64\n",
            " 1   V1      284807 non-null  float64\n",
            " 2   V2      284807 non-null  float64\n",
            " 3   V3      284807 non-null  float64\n",
            " 4   V4      284807 non-null  float64\n",
            " 5   V5      284807 non-null  float64\n",
            " 6   V6      284807 non-null  float64\n",
            " 7   V7      284807 non-null  float64\n",
            " 8   V8      284807 non-null  float64\n",
            " 9   V9      284807 non-null  float64\n",
            " 10  V10     284807 non-null  float64\n",
            " 11  V11     284807 non-null  float64\n",
            " 12  V12     284807 non-null  float64\n",
            " 13  V13     284807 non-null  float64\n",
            " 14  V14     284807 non-null  float64\n",
            " 15  V15     284807 non-null  float64\n",
            " 16  V16     284807 non-null  float64\n",
            " 17  V17     284807 non-null  float64\n",
            " 18  V18     284807 non-null  float64\n",
            " 19  V19     284807 non-null  float64\n",
            " 20  V20     284807 non-null  float64\n",
            " 21  V21     284807 non-null  float64\n",
            " 22  V22     284807 non-null  float64\n",
            " 23  V23     284807 non-null  float64\n",
            " 24  V24     284807 non-null  float64\n",
            " 25  V25     284807 non-null  float64\n",
            " 26  V26     284807 non-null  float64\n",
            " 27  V27     284807 non-null  float64\n",
            " 28  V28     284807 non-null  float64\n",
            " 29  Amount  284807 non-null  float64\n",
            " 30  Class   284807 non-null  int64  \n",
            "dtypes: float64(30), int64(1)\n",
            "memory usage: 67.4 MB\n"
          ],
          "name": "stdout"
        }
      ]
    },
    {
      "cell_type": "code",
      "metadata": {
        "colab": {
          "base_uri": "https://localhost:8080/"
        },
        "id": "0dxMK8O_WW-y",
        "outputId": "b7904afa-0c95-43e0-d75d-19f042ea9b48"
      },
      "source": [
        "df.shape"
      ],
      "execution_count": null,
      "outputs": [
        {
          "output_type": "execute_result",
          "data": {
            "text/plain": [
              "(284807, 31)"
            ]
          },
          "metadata": {
            "tags": []
          },
          "execution_count": 5
        }
      ]
    },
    {
      "cell_type": "code",
      "metadata": {
        "colab": {
          "base_uri": "https://localhost:8080/"
        },
        "id": "H3sUCow4WXE_",
        "outputId": "8face8cc-38a2-4574-e2da-c446198a9054"
      },
      "source": [
        "#check null value\n",
        "df.isnull().sum()"
      ],
      "execution_count": null,
      "outputs": [
        {
          "output_type": "execute_result",
          "data": {
            "text/plain": [
              "Time      0\n",
              "V1        0\n",
              "V2        0\n",
              "V3        0\n",
              "V4        0\n",
              "V5        0\n",
              "V6        0\n",
              "V7        0\n",
              "V8        0\n",
              "V9        0\n",
              "V10       0\n",
              "V11       0\n",
              "V12       0\n",
              "V13       0\n",
              "V14       0\n",
              "V15       0\n",
              "V16       0\n",
              "V17       0\n",
              "V18       0\n",
              "V19       0\n",
              "V20       0\n",
              "V21       0\n",
              "V22       0\n",
              "V23       0\n",
              "V24       0\n",
              "V25       0\n",
              "V26       0\n",
              "V27       0\n",
              "V28       0\n",
              "Amount    0\n",
              "Class     0\n",
              "dtype: int64"
            ]
          },
          "metadata": {
            "tags": []
          },
          "execution_count": 6
        }
      ]
    },
    {
      "cell_type": "code",
      "metadata": {
        "colab": {
          "base_uri": "https://localhost:8080/",
          "height": 303
        },
        "id": "TAR_f6PwWXHP",
        "outputId": "f35e9722-4653-4174-fc59-ebab3001e1c9"
      },
      "source": [
        "#visualise null value\n",
        "sns.heatmap(df.isnull())"
      ],
      "execution_count": null,
      "outputs": [
        {
          "output_type": "execute_result",
          "data": {
            "text/plain": [
              "<matplotlib.axes._subplots.AxesSubplot at 0x7f20293148d0>"
            ]
          },
          "metadata": {
            "tags": []
          },
          "execution_count": 7
        },
        {
          "output_type": "display_data",
          "data": {
            "image/png": "[encoded data removed]",
            "text/plain": [
              "<Figure size 432x288 with 2 Axes>"
            ]
          },
          "metadata": {
            "tags": [],
            "needs_background": "light"
          }
        }
      ]
    },
    {
      "cell_type": "code",
      "metadata": {
        "colab": {
          "base_uri": "https://localhost:8080/"
        },
        "id": "5erTOwOwXYbR",
        "outputId": "7a844fd4-301c-4e28-b647-1e00870f5909"
      },
      "source": [
        "df[\"Class\"].value_counts()"
      ],
      "execution_count": null,
      "outputs": [
        {
          "output_type": "execute_result",
          "data": {
            "text/plain": [
              "0    284315\n",
              "1       492\n",
              "Name: Class, dtype: int64"
            ]
          },
          "metadata": {
            "tags": []
          },
          "execution_count": 8
        }
      ]
    },
    {
      "cell_type": "code",
      "metadata": {
        "colab": {
          "base_uri": "https://localhost:8080/",
          "height": 279
        },
        "id": "-u2FTBcVXYdv",
        "outputId": "1d55fd03-92d3-4cdc-b38f-efa7bb70ec93"
      },
      "source": [
        "#visualise\n",
        "sns.countplot(data=df,x=\"Class\")\n",
        "c=df[\"Class\"].value_counts()\n",
        "plt.yticks(c)\n",
        "plt.show()"
      ],
      "execution_count": null,
      "outputs": [
        {
          "output_type": "display_data",
          "data": {
            "image/png": "[encoded data removed]",
            "text/plain": [
              "<Figure size 432x288 with 1 Axes>"
            ]
          },
          "metadata": {
            "tags": [],
            "needs_background": "light"
          }
        }
      ]
    },
    {
      "cell_type": "code",
      "metadata": {
        "id": "FV42D8IVYZH1"
      },
      "source": [
        "#seperate input and output\n",
        "X=df.drop(\"Class\",axis=1)\n",
        "Y=df[\"Class\"]"
      ],
      "execution_count": null,
      "outputs": []
    },
    {
      "cell_type": "code",
      "metadata": {
        "id": "rWj5jyQsXYhX"
      },
      "source": [
        "from sklearn.model_selection import train_test_split\n",
        "X_train,X_test,Y_train,Y_test=train_test_split(X,Y,test_size=0.3,random_state=1)"
      ],
      "execution_count": null,
      "outputs": []
    },
    {
      "cell_type": "code",
      "metadata": {
        "id": "SKDmN5sjYy6k"
      },
      "source": [
        "#apply scaling\n",
        "from sklearn.preprocessing import StandardScaler\n"
      ],
      "execution_count": null,
      "outputs": []
    },
    {
      "cell_type": "code",
      "metadata": {
        "id": "wIatWnoTYy8j"
      },
      "source": [
        "ss=StandardScaler()"
      ],
      "execution_count": null,
      "outputs": []
    },
    {
      "cell_type": "code",
      "metadata": {
        "id": "_i1pdaY2ZK0h"
      },
      "source": [
        "X_train=ss.fit_transform(X_train)\n",
        "X_test=ss.transform(X_test)"
      ],
      "execution_count": null,
      "outputs": []
    },
    {
      "cell_type": "code",
      "metadata": {
        "colab": {
          "base_uri": "https://localhost:8080/"
        },
        "id": "9BMM3OPuZK2m",
        "outputId": "117b560d-734b-45d0-fe6d-f9c567059eeb"
      },
      "source": [
        "X_train"
      ],
      "execution_count": null,
      "outputs": [
        {
          "output_type": "execute_result",
          "data": {
            "text/plain": [
              "array([[ 7.20776793e-01, -9.60894470e-02,  1.22893137e-01, ...,\n",
              "        -2.53567703e-02,  6.37631372e-02, -2.95042507e-01],\n",
              "       [ 1.05267495e-01,  7.05116794e-04,  6.30339113e-01, ...,\n",
              "        -2.35478397e-01,  1.09914126e-01, -3.16496631e-01],\n",
              "       [ 1.36935421e+00,  1.05449525e+00,  4.31205341e-02, ...,\n",
              "        -1.70041715e-01, -1.38329725e-01, -3.44542804e-01],\n",
              "       ...,\n",
              "       [-8.38458667e-01, -5.85712567e-01,  1.02671982e+00, ...,\n",
              "        -3.98848474e-01,  9.03441212e-02, -3.22169788e-01],\n",
              "       [ 1.42856088e+00,  8.95834165e-01, -4.23541842e-01, ...,\n",
              "        -1.37986278e-02, -5.98409431e-02,  2.62899304e-02],\n",
              "       [-3.43890216e-01, -3.60088146e-01,  2.98423515e-01, ...,\n",
              "        -9.49926276e-01, -6.09472322e-01, -1.21531780e-01]])"
            ]
          },
          "metadata": {
            "tags": []
          },
          "execution_count": 16
        }
      ]
    },
    {
      "cell_type": "code",
      "metadata": {
        "colab": {
          "base_uri": "https://localhost:8080/"
        },
        "id": "dN0ZQeDxWXJr",
        "outputId": "8ca548d0-0d9d-4e7c-ca18-0a01d6dbbf99"
      },
      "source": [
        "#!pip install imblearn\n",
        "from imblearn.under_sampling import RandomUnderSampler\n",
        "from imblearn.over_sampling import RandomOverSampler"
      ],
      "execution_count": null,
      "outputs": [
        {
          "output_type": "stream",
          "text": [
            "/usr/local/lib/python3.7/dist-packages/sklearn/externals/six.py:31: FutureWarning: The module is deprecated in version 0.21 and will be removed in version 0.23 since we've dropped support for Python 2.7. Please rely on the official version of six (https://pypi.org/project/six/).\n",
            "  \"(https://pypi.org/project/six/).\", FutureWarning)\n",
            "/usr/local/lib/python3.7/dist-packages/sklearn/utils/deprecation.py:144: FutureWarning: The sklearn.neighbors.base module is  deprecated in version 0.22 and will be removed in version 0.24. The corresponding classes / functions should instead be imported from sklearn.neighbors. Anything that cannot be imported from sklearn.neighbors is now part of the private API.\n",
            "  warnings.warn(message, FutureWarning)\n"
          ],
          "name": "stderr"
        }
      ]
    },
    {
      "cell_type": "code",
      "metadata": {
        "id": "i2uDNjOLWXLo"
      },
      "source": [
        "#RandomOverSampler use \n",
        "#create object of  RandomOverSampler() class\n",
        "ros = RandomOverSampler()"
      ],
      "execution_count": null,
      "outputs": []
    },
    {
      "cell_type": "code",
      "metadata": {
        "colab": {
          "base_uri": "https://localhost:8080/"
        },
        "id": "3L5MGz4RWXOL",
        "outputId": "d1d43497-4830-4ebf-b4ea-f56a83e9e9e6"
      },
      "source": [
        "#here convert minority class: yes into majority class :no use fit_resample() inbuilt method of RandomOverSampler()\n",
        "#class\n",
        "X_train_1,Y_train_1=ros.fit_resample(X_train,Y_train) \n",
        "#X_test1,Y_test1=ros.fit_resample(X_test,Y_test)"
      ],
      "execution_count": null,
      "outputs": [
        {
          "output_type": "stream",
          "text": [
            "/usr/local/lib/python3.7/dist-packages/sklearn/utils/deprecation.py:87: FutureWarning: Function safe_indexing is deprecated; safe_indexing is deprecated in version 0.22 and will be removed in version 0.24.\n",
            "  warnings.warn(msg, category=FutureWarning)\n"
          ],
          "name": "stderr"
        }
      ]
    },
    {
      "cell_type": "code",
      "metadata": {
        "colab": {
          "base_uri": "https://localhost:8080/"
        },
        "id": "dKaDPH-awiQ7",
        "outputId": "e902000a-15f0-418a-b3e0-6692823dc250"
      },
      "source": [
        "pd.Series(Y_train).value_counts() #check if not balance "
      ],
      "execution_count": null,
      "outputs": [
        {
          "output_type": "execute_result",
          "data": {
            "text/plain": [
              "0    199007\n",
              "1       357\n",
              "Name: Class, dtype: int64"
            ]
          },
          "metadata": {
            "tags": []
          },
          "execution_count": 20
        }
      ]
    },
    {
      "cell_type": "code",
      "metadata": {
        "colab": {
          "base_uri": "https://localhost:8080/"
        },
        "id": "HGxpiMExWXR4",
        "outputId": "01dfbeb3-724b-4fb5-c397-e9c82a0842a4"
      },
      "source": [
        "pd.Series(Y_train_1).value_counts()"
      ],
      "execution_count": null,
      "outputs": [
        {
          "output_type": "execute_result",
          "data": {
            "text/plain": [
              "1    199007\n",
              "0    199007\n",
              "dtype: int64"
            ]
          },
          "metadata": {
            "tags": []
          },
          "execution_count": 21
        }
      ]
    },
    {
      "cell_type": "code",
      "metadata": {
        "colab": {
          "base_uri": "https://localhost:8080/"
        },
        "id": "WlenmrrBWXUu",
        "outputId": "19773241-e167-47ef-a5a0-d967f25d750a"
      },
      "source": [
        "pd.Series(Y_test).value_counts() #check if not balance "
      ],
      "execution_count": null,
      "outputs": [
        {
          "output_type": "execute_result",
          "data": {
            "text/plain": [
              "0    85308\n",
              "1      135\n",
              "Name: Class, dtype: int64"
            ]
          },
          "metadata": {
            "tags": []
          },
          "execution_count": 22
        }
      ]
    },
    {
      "cell_type": "code",
      "metadata": {
        "colab": {
          "base_uri": "https://localhost:8080/"
        },
        "id": "Mv7YtS6SWXX3",
        "outputId": "a808d1c1-f395-481f-8b6f-0025c342d651"
      },
      "source": [
        "#covert on test data\n",
        "X_test_1,Y_test_1=ros.fit_resample(X_test,Y_test) "
      ],
      "execution_count": null,
      "outputs": [
        {
          "output_type": "stream",
          "text": [
            "/usr/local/lib/python3.7/dist-packages/sklearn/utils/deprecation.py:87: FutureWarning: Function safe_indexing is deprecated; safe_indexing is deprecated in version 0.22 and will be removed in version 0.24.\n",
            "  warnings.warn(msg, category=FutureWarning)\n"
          ],
          "name": "stderr"
        }
      ]
    },
    {
      "cell_type": "code",
      "metadata": {
        "colab": {
          "base_uri": "https://localhost:8080/"
        },
        "id": "WvJrKlikxr2n",
        "outputId": "64d5fbea-1f63-49f6-df34-9b82eec852d0"
      },
      "source": [
        "df.shape"
      ],
      "execution_count": null,
      "outputs": [
        {
          "output_type": "execute_result",
          "data": {
            "text/plain": [
              "(284807, 31)"
            ]
          },
          "metadata": {
            "tags": []
          },
          "execution_count": 24
        }
      ]
    },
    {
      "cell_type": "code",
      "metadata": {
        "id": "BHIiUo_cWXZl"
      },
      "source": [
        "#create architecture\n",
        "model=tf.keras.Sequential([\n",
        "                          tf.keras.layers.Dense(64,activation='relu',input_shape=(X.shape[1],)),#input layer#1st hidden layer\n",
        "                          tf.keras.layers.Dense(70,activation='relu'),\n",
        "                          tf.keras.layers.Dense(50,activation='relu'),\n",
        "                          tf.keras.layers.Dense(1,activation='sigmoid')  \n",
        "])"
      ],
      "execution_count": null,
      "outputs": []
    },
    {
      "cell_type": "code",
      "metadata": {
        "colab": {
          "base_uri": "https://localhost:8080/"
        },
        "id": "s7zw0IOGy9qW",
        "outputId": "ccfe9c27-4191-4c95-8f47-ec66a9b34481"
      },
      "source": [
        "#summery\n",
        "model.summary()"
      ],
      "execution_count": null,
      "outputs": [
        {
          "output_type": "stream",
          "text": [
            "Model: \"sequential\"\n",
            "_________________________________________________________________\n",
            "Layer (type)                 Output Shape              Param #   \n",
            "=================================================================\n",
            "dense (Dense)                (None, 64)                1984      \n",
            "_________________________________________________________________\n",
            "dense_1 (Dense)              (None, 70)                4550      \n",
            "_________________________________________________________________\n",
            "dense_2 (Dense)              (None, 50)                3550      \n",
            "_________________________________________________________________\n",
            "dense_3 (Dense)              (None, 1)                 51        \n",
            "=================================================================\n",
            "Total params: 10,135\n",
            "Trainable params: 10,135\n",
            "Non-trainable params: 0\n",
            "_________________________________________________________________\n"
          ],
          "name": "stdout"
        }
      ]
    },
    {
      "cell_type": "code",
      "metadata": {
        "id": "zvcS_vHpAkVO"
      },
      "source": [
        "#calculation:\n",
        "#formula=no. of neurons*no.of inputs+bias\n",
        "# first input layerLayer=31*64=1984\n",
        "#first  hidden layer=70*64+70=4550\n",
        "# second hidden Layer=50*70+50=3550\n",
        "#output layer=1*50+1=51"
      ],
      "execution_count": null,
      "outputs": []
    },
    {
      "cell_type": "code",
      "metadata": {
        "id": "SZO6amRTy9sh"
      },
      "source": [
        "#compile the model\n",
        "from tensorflow import keras\n",
        "opt=keras.optimizers.Adam(learning_rate=0.01)\n",
        "model.compile(optimizer=opt,loss='binary_crossentropy',metrics=['accuracy'])\n"
      ],
      "execution_count": null,
      "outputs": []
    },
    {
      "cell_type": "code",
      "metadata": {
        "colab": {
          "base_uri": "https://localhost:8080/"
        },
        "id": "vQcNsw1v0Tii",
        "outputId": "cd727262-a6fb-42a6-ec33-53c4b525881e"
      },
      "source": [
        "#Train the model\n",
        "\n",
        "trained_model1 = model.fit(X_train_1, Y_train_1,batch_size=32, epochs=70,validation_data=(X_test_1, Y_test_1))"
      ],
      "execution_count": null,
      "outputs": [
        {
          "output_type": "stream",
          "text": [
            "Epoch 1/70\n",
            "12438/12438 [==============================] - 18s 1ms/step - loss: 0.0238 - accuracy: 0.9946 - val_loss: 3.5084 - val_accuracy: 0.9170\n",
            "Epoch 2/70\n",
            "12438/12438 [==============================] - 17s 1ms/step - loss: 0.0126 - accuracy: 0.9978 - val_loss: 6.1640 - val_accuracy: 0.9172\n",
            "Epoch 3/70\n",
            "12438/12438 [==============================] - 19s 2ms/step - loss: 0.0109 - accuracy: 0.9984 - val_loss: 7.9668 - val_accuracy: 0.9068\n",
            "Epoch 4/70\n",
            "12438/12438 [==============================] - 19s 2ms/step - loss: 0.0096 - accuracy: 0.9987 - val_loss: 7.1956 - val_accuracy: 0.9105\n",
            "Epoch 5/70\n",
            "12438/12438 [==============================] - 19s 2ms/step - loss: 0.0087 - accuracy: 0.9989 - val_loss: 16.0424 - val_accuracy: 0.9106\n",
            "Epoch 6/70\n",
            "12438/12438 [==============================] - 19s 2ms/step - loss: 0.0099 - accuracy: 0.9988 - val_loss: 10.3001 - val_accuracy: 0.9105\n",
            "Epoch 7/70\n",
            "12438/12438 [==============================] - 17s 1ms/step - loss: 0.0115 - accuracy: 0.9989 - val_loss: 7.9887 - val_accuracy: 0.9208\n",
            "Epoch 8/70\n",
            "12438/12438 [==============================] - 19s 2ms/step - loss: 0.0124 - accuracy: 0.9989 - val_loss: 15.9560 - val_accuracy: 0.9103\n",
            "Epoch 9/70\n",
            "12438/12438 [==============================] - 17s 1ms/step - loss: 0.0082 - accuracy: 0.9989 - val_loss: 30.9344 - val_accuracy: 0.9139\n",
            "Epoch 10/70\n",
            "12438/12438 [==============================] - 19s 2ms/step - loss: 0.0096 - accuracy: 0.9989 - val_loss: 36.4458 - val_accuracy: 0.9140\n",
            "Epoch 11/70\n",
            "12438/12438 [==============================] - 19s 2ms/step - loss: 0.0111 - accuracy: 0.9988 - val_loss: 27.8718 - val_accuracy: 0.9175\n",
            "Epoch 12/70\n",
            "12438/12438 [==============================] - 17s 1ms/step - loss: 0.0154 - accuracy: 0.9985 - val_loss: 47.7696 - val_accuracy: 0.9133\n",
            "Epoch 13/70\n",
            "12438/12438 [==============================] - 19s 2ms/step - loss: 0.0121 - accuracy: 0.9988 - val_loss: 18.9946 - val_accuracy: 0.9135\n",
            "Epoch 14/70\n",
            "12438/12438 [==============================] - 19s 2ms/step - loss: 0.0129 - accuracy: 0.9987 - val_loss: 36.6423 - val_accuracy: 0.9164\n",
            "Epoch 15/70\n",
            "12438/12438 [==============================] - 17s 1ms/step - loss: 0.0097 - accuracy: 0.9989 - val_loss: 18.6690 - val_accuracy: 0.9163\n",
            "Epoch 16/70\n",
            "12438/12438 [==============================] - 19s 2ms/step - loss: 0.0147 - accuracy: 0.9992 - val_loss: 194.5341 - val_accuracy: 0.9070\n",
            "Epoch 17/70\n",
            "12438/12438 [==============================] - 19s 2ms/step - loss: 0.0148 - accuracy: 0.9987 - val_loss: 34.3072 - val_accuracy: 0.9363\n",
            "Epoch 18/70\n",
            "12438/12438 [==============================] - 19s 2ms/step - loss: 0.0116 - accuracy: 0.9990 - val_loss: 75.1442 - val_accuracy: 0.9140\n",
            "Epoch 19/70\n",
            "12438/12438 [==============================] - 17s 1ms/step - loss: 0.0128 - accuracy: 0.9988 - val_loss: 83.9725 - val_accuracy: 0.9129\n",
            "Epoch 20/70\n",
            "12438/12438 [==============================] - 19s 2ms/step - loss: 0.0102 - accuracy: 0.9991 - val_loss: 127.1918 - val_accuracy: 0.9034\n",
            "Epoch 21/70\n",
            "12438/12438 [==============================] - 19s 2ms/step - loss: 0.0088 - accuracy: 0.9989 - val_loss: 75.9502 - val_accuracy: 0.9137\n",
            "Epoch 22/70\n",
            "12438/12438 [==============================] - 19s 2ms/step - loss: 0.0100 - accuracy: 0.9989 - val_loss: 192.8587 - val_accuracy: 0.9135\n",
            "Epoch 23/70\n",
            "12438/12438 [==============================] - 19s 2ms/step - loss: 0.0116 - accuracy: 0.9990 - val_loss: 111.5264 - val_accuracy: 0.9101\n",
            "Epoch 24/70\n",
            "12438/12438 [==============================] - 17s 1ms/step - loss: 0.0100 - accuracy: 0.9988 - val_loss: 91.2499 - val_accuracy: 0.9134\n",
            "Epoch 25/70\n",
            "12438/12438 [==============================] - 17s 1ms/step - loss: 0.0082 - accuracy: 0.9991 - val_loss: 136.2828 - val_accuracy: 0.9067\n",
            "Epoch 26/70\n",
            "12438/12438 [==============================] - 19s 2ms/step - loss: 0.0208 - accuracy: 0.9984 - val_loss: 137.5330 - val_accuracy: 0.9159\n",
            "Epoch 27/70\n",
            "12438/12438 [==============================] - 19s 2ms/step - loss: 0.0107 - accuracy: 0.9988 - val_loss: 180.0845 - val_accuracy: 0.9132\n",
            "Epoch 28/70\n",
            "12438/12438 [==============================] - 17s 1ms/step - loss: 0.0192 - accuracy: 0.9986 - val_loss: 106.7833 - val_accuracy: 0.9162\n",
            "Epoch 29/70\n",
            "12438/12438 [==============================] - 17s 1ms/step - loss: 0.0182 - accuracy: 0.9992 - val_loss: 160.3630 - val_accuracy: 0.9104\n",
            "Epoch 30/70\n",
            "12438/12438 [==============================] - 17s 1ms/step - loss: 0.0132 - accuracy: 0.9988 - val_loss: 94.1252 - val_accuracy: 0.9121\n",
            "Epoch 31/70\n",
            "12438/12438 [==============================] - 17s 1ms/step - loss: 0.0135 - accuracy: 0.9988 - val_loss: 95.2988 - val_accuracy: 0.9099\n",
            "Epoch 32/70\n",
            "12438/12438 [==============================] - 19s 2ms/step - loss: 0.0094 - accuracy: 0.9992 - val_loss: 111.9026 - val_accuracy: 0.9102\n",
            "Epoch 33/70\n",
            "12438/12438 [==============================] - 17s 1ms/step - loss: 0.0459 - accuracy: 0.9992 - val_loss: 99.0742 - val_accuracy: 0.9067\n",
            "Epoch 34/70\n",
            "12438/12438 [==============================] - 19s 2ms/step - loss: 0.0122 - accuracy: 0.9992 - val_loss: 201.9353 - val_accuracy: 0.9165\n",
            "Epoch 35/70\n",
            "12438/12438 [==============================] - 17s 1ms/step - loss: 0.0136 - accuracy: 0.9989 - val_loss: 229.3739 - val_accuracy: 0.9137\n",
            "Epoch 36/70\n",
            "12438/12438 [==============================] - 17s 1ms/step - loss: 0.0101 - accuracy: 0.9990 - val_loss: 98.8174 - val_accuracy: 0.9138\n",
            "Epoch 37/70\n",
            "12438/12438 [==============================] - 17s 1ms/step - loss: 0.0110 - accuracy: 0.9993 - val_loss: 164.3970 - val_accuracy: 0.8996\n",
            "Epoch 38/70\n",
            "12438/12438 [==============================] - 17s 1ms/step - loss: 0.0093 - accuracy: 0.9991 - val_loss: 114.3710 - val_accuracy: 0.9066\n",
            "Epoch 39/70\n",
            "12438/12438 [==============================] - 19s 2ms/step - loss: 0.0101 - accuracy: 0.9992 - val_loss: 147.2100 - val_accuracy: 0.9106\n",
            "Epoch 40/70\n",
            "12438/12438 [==============================] - 17s 1ms/step - loss: 0.0340 - accuracy: 0.9992 - val_loss: 147.1206 - val_accuracy: 0.9100\n",
            "Epoch 41/70\n",
            "12438/12438 [==============================] - 17s 1ms/step - loss: 0.0082 - accuracy: 0.9992 - val_loss: 208.3654 - val_accuracy: 0.9102\n",
            "Epoch 42/70\n",
            "12438/12438 [==============================] - 17s 1ms/step - loss: 0.0129 - accuracy: 0.9992 - val_loss: 162.7776 - val_accuracy: 0.9068\n",
            "Epoch 43/70\n",
            "12438/12438 [==============================] - 19s 2ms/step - loss: 0.0159 - accuracy: 0.9994 - val_loss: 405.6541 - val_accuracy: 0.9071\n",
            "Epoch 44/70\n",
            "12438/12438 [==============================] - 19s 2ms/step - loss: 0.0077 - accuracy: 0.9994 - val_loss: 413.9778 - val_accuracy: 0.9137\n",
            "Epoch 45/70\n",
            "12438/12438 [==============================] - 19s 2ms/step - loss: 0.0134 - accuracy: 0.9987 - val_loss: 189.5894 - val_accuracy: 0.9173\n",
            "Epoch 46/70\n",
            "12438/12438 [==============================] - 17s 1ms/step - loss: 0.0091 - accuracy: 0.9991 - val_loss: 253.0016 - val_accuracy: 0.9172\n",
            "Epoch 47/70\n",
            "12438/12438 [==============================] - 19s 2ms/step - loss: 0.0092 - accuracy: 0.9992 - val_loss: 213.6315 - val_accuracy: 0.9071\n",
            "Epoch 48/70\n",
            "12438/12438 [==============================] - 17s 1ms/step - loss: 0.0068 - accuracy: 0.9992 - val_loss: 396.3791 - val_accuracy: 0.9174\n",
            "Epoch 49/70\n",
            "12438/12438 [==============================] - 17s 1ms/step - loss: 0.0107 - accuracy: 0.9990 - val_loss: 293.5550 - val_accuracy: 0.9137\n",
            "Epoch 50/70\n",
            "12438/12438 [==============================] - 20s 2ms/step - loss: 0.0086 - accuracy: 0.9992 - val_loss: 297.1000 - val_accuracy: 0.9138\n",
            "Epoch 51/70\n",
            "12438/12438 [==============================] - 17s 1ms/step - loss: 0.0105 - accuracy: 0.9990 - val_loss: 374.3289 - val_accuracy: 0.9172\n",
            "Epoch 52/70\n",
            "12438/12438 [==============================] - 20s 2ms/step - loss: 0.0048 - accuracy: 0.9994 - val_loss: 434.4955 - val_accuracy: 0.9105\n",
            "Epoch 53/70\n",
            "12438/12438 [==============================] - 17s 1ms/step - loss: 0.0131 - accuracy: 0.9989 - val_loss: 367.3598 - val_accuracy: 0.9134\n",
            "Epoch 54/70\n",
            "12438/12438 [==============================] - 17s 1ms/step - loss: 0.0121 - accuracy: 0.9992 - val_loss: 246.1820 - val_accuracy: 0.9138\n",
            "Epoch 55/70\n",
            "12438/12438 [==============================] - 17s 1ms/step - loss: 0.0067 - accuracy: 0.9993 - val_loss: 417.6096 - val_accuracy: 0.9104\n",
            "Epoch 56/70\n",
            "12438/12438 [==============================] - 20s 2ms/step - loss: 0.0078 - accuracy: 0.9991 - val_loss: 595.0594 - val_accuracy: 0.9173\n",
            "Epoch 57/70\n",
            "12438/12438 [==============================] - 19s 2ms/step - loss: 0.0073 - accuracy: 0.9992 - val_loss: 637.7841 - val_accuracy: 0.9173\n",
            "Epoch 58/70\n",
            "12438/12438 [==============================] - 19s 2ms/step - loss: 0.0096 - accuracy: 0.9991 - val_loss: 234.7763 - val_accuracy: 0.9173\n",
            "Epoch 59/70\n",
            "12438/12438 [==============================] - 20s 2ms/step - loss: 0.0089 - accuracy: 0.9992 - val_loss: 303.3291 - val_accuracy: 0.9103\n",
            "Epoch 60/70\n",
            "12438/12438 [==============================] - 17s 1ms/step - loss: 0.0084 - accuracy: 0.9992 - val_loss: 702.3640 - val_accuracy: 0.9105\n",
            "Epoch 61/70\n",
            "12438/12438 [==============================] - 17s 1ms/step - loss: 0.0127 - accuracy: 0.9993 - val_loss: 497.6773 - val_accuracy: 0.9139\n",
            "Epoch 62/70\n",
            "12438/12438 [==============================] - 17s 1ms/step - loss: 0.0110 - accuracy: 0.9993 - val_loss: 274.3795 - val_accuracy: 0.9172\n",
            "Epoch 63/70\n",
            "12438/12438 [==============================] - 19s 2ms/step - loss: 0.0099 - accuracy: 0.9993 - val_loss: 676.8450 - val_accuracy: 0.9069\n",
            "Epoch 64/70\n",
            "12438/12438 [==============================] - 17s 1ms/step - loss: 0.0055 - accuracy: 0.9994 - val_loss: 583.8132 - val_accuracy: 0.9104\n",
            "Epoch 65/70\n",
            "12438/12438 [==============================] - 17s 1ms/step - loss: 0.0108 - accuracy: 0.9991 - val_loss: 477.0766 - val_accuracy: 0.9174\n",
            "Epoch 66/70\n",
            "12438/12438 [==============================] - 20s 2ms/step - loss: 0.0073 - accuracy: 0.9993 - val_loss: 819.8717 - val_accuracy: 0.9105\n",
            "Epoch 67/70\n",
            "12438/12438 [==============================] - 20s 2ms/step - loss: 0.0117 - accuracy: 0.9990 - val_loss: 1104.3730 - val_accuracy: 0.9140\n",
            "Epoch 68/70\n",
            "12438/12438 [==============================] - 20s 2ms/step - loss: 0.0453 - accuracy: 0.9990 - val_loss: 926.6370 - val_accuracy: 0.9173\n",
            "Epoch 69/70\n",
            "12438/12438 [==============================] - 19s 2ms/step - loss: 0.0115 - accuracy: 0.9992 - val_loss: 730.3018 - val_accuracy: 0.9139\n",
            "Epoch 70/70\n",
            "12438/12438 [==============================] - 19s 2ms/step - loss: 0.0120 - accuracy: 0.9991 - val_loss: 794.1533 - val_accuracy: 0.9206\n"
          ],
          "name": "stdout"
        }
      ]
    },
    {
      "cell_type": "code",
      "metadata": {
        "colab": {
          "base_uri": "https://localhost:8080/"
        },
        "id": "kE-yBUXi0ToQ",
        "outputId": "342a7015-835c-483b-96a7-5b80da68ebc5"
      },
      "source": [
        "#or accuracy of training data >accuracy of testing data means model is overfit \n",
        "print(\"Testing Error and Accuracy of Testing Data : \",model.evaluate(X_test, Y_test) )"
      ],
      "execution_count": null,
      "outputs": [
        {
          "output_type": "stream",
          "text": [
            "2671/2671 [==============================] - 2s 722us/step - loss: 2.4786 - accuracy: 0.9974\n",
            "Testing Error and Accuracy of Testing Data :  [2.4785754680633545, 0.9973783493041992]\n"
          ],
          "name": "stdout"
        }
      ]
    },
    {
      "cell_type": "code",
      "metadata": {
        "colab": {
          "base_uri": "https://localhost:8080/",
          "height": 295
        },
        "id": "U_2U1cH-0T2x",
        "outputId": "879ec500-5188-4dbb-e7b5-59edf173860f"
      },
      "source": [
        "#visualise training error(loss) and testing error (loss)\n",
        "plt.plot(trained_model1.history['loss']) #training's loss means error\n",
        "plt.plot(trained_model1.history['val_loss']) #testing's loss means error\n",
        "plt.title('Model loss for training and testing')\n",
        "plt.ylabel('Loss')\n",
        "plt.xlabel('Epoch')\n",
        "plt.legend(['Train', 'Val means test'], loc='upper right')#loc means location\n",
        "plt.show()"
      ],
      "execution_count": null,
      "outputs": [
        {
          "output_type": "display_data",
          "data": {
            "image/png": "[encoded data removed]",
            "text/plain": [
              "<Figure size 432x288 with 1 Axes>"
            ]
          },
          "metadata": {
            "tags": [],
            "needs_background": "light"
          }
        }
      ]
    },
    {
      "cell_type": "code",
      "metadata": {
        "colab": {
          "base_uri": "https://localhost:8080/"
        },
        "id": "5XejemIE0T4m",
        "outputId": "a6d2484c-97cc-4629-ecf8-b8038060d92a"
      },
      "source": [
        "#means training's error< testing error so model is overfit\n",
        "#or accuracy of training data >accuracy of testing data means model is overfit \n",
        "print(\"Testing Error and Accuracy of Testing Data : \",model.evaluate(X_test, Y_test) )\n",
        "\n",
        "print(\"Training Error and Accuracy of Testing Data : \",model.evaluate(X_train, Y_train) )\n"
      ],
      "execution_count": null,
      "outputs": [
        {
          "output_type": "stream",
          "text": [
            "2671/2671 [==============================] - 2s 724us/step - loss: 2.4786 - accuracy: 0.9974\n",
            "Testing Error and Accuracy of Testing Data :  [2.4785754680633545, 0.9973783493041992]\n",
            "6231/6231 [==============================] - 5s 722us/step - loss: 0.0129 - accuracy: 0.9977\n",
            "Training Error and Accuracy of Testing Data :  [0.012853814288973808, 0.9976676106452942]\n"
          ],
          "name": "stdout"
        }
      ]
    },
    {
      "cell_type": "code",
      "metadata": {
        "colab": {
          "base_uri": "https://localhost:8080/",
          "height": 295
        },
        "id": "eWPVOJtq_Bmh",
        "outputId": "63036650-414a-4c41-c265-48ca29f6c597"
      },
      "source": [
        "#visualise training Accuracy and testing accuracy\n",
        "plt.plot(trained_model1.history['accuracy']) #training's loss means error\n",
        "plt.plot(trained_model1.history['val_accuracy']) #testing's loss means error\n",
        "plt.title('Model Accuracy for training and testing')\n",
        "plt.ylabel('Accuracy')\n",
        "plt.xlabel('Epoch')\n",
        "plt.legend(['Train', 'Val means test'], loc='upper right')#loc means location\n",
        "plt.show()"
      ],
      "execution_count": null,
      "outputs": [
        {
          "output_type": "display_data",
          "data": {
            "image/png": "[encoded data removed]",
            "text/plain": [
              "<Figure size 432x288 with 1 Axes>"
            ]
          },
          "metadata": {
            "tags": [],
            "needs_background": "light"
          }
        }
      ]
    },
    {
      "cell_type": "code",
      "metadata": {
        "colab": {
          "base_uri": "https://localhost:8080/"
        },
        "id": "DJrVk-_V_BpI",
        "outputId": "4425f810-56f8-4bda-defa-1da242c6c46e"
      },
      "source": [
        "#we can see , our model is overfit\n",
        "#find prediction \n",
        "Y_pred=model.predict(X_test)  #give probability value Y_pred=1/(1+exp(-X))\n",
        "print(Y_pred)"
      ],
      "execution_count": null,
      "outputs": [
        {
          "output_type": "stream",
          "text": [
            "[[0.]\n",
            " [0.]\n",
            " [0.]\n",
            " ...\n",
            " [0.]\n",
            " [0.]\n",
            " [0.]]\n"
          ],
          "name": "stdout"
        }
      ]
    },
    {
      "cell_type": "code",
      "metadata": {
        "colab": {
          "base_uri": "https://localhost:8080/"
        },
        "id": "wkWg3qNb_BsX",
        "outputId": "fd8d5f1a-e64b-4175-93c3-67672bafe3bd"
      },
      "source": [
        "Y_pred=np.where(Y_pred>=0.5,1,0)\n",
        "print(Y_pred)\n"
      ],
      "execution_count": null,
      "outputs": [
        {
          "output_type": "stream",
          "text": [
            "[[0]\n",
            " [0]\n",
            " [0]\n",
            " ...\n",
            " [0]\n",
            " [0]\n",
            " [0]]\n"
          ],
          "name": "stdout"
        }
      ]
    },
    {
      "cell_type": "code",
      "metadata": {
        "colab": {
          "base_uri": "https://localhost:8080/"
        },
        "id": "9Q4OmFVW_BvC",
        "outputId": "e56b34da-82db-43d9-cbc2-c6d9b5348d5e"
      },
      "source": [
        "#generate report \n",
        "from sklearn.metrics import classification_report\n",
        "from sklearn.metrics import confusion_matrix\n",
        "\n",
        "print(classification_report(Y_test,Y_pred))\n",
        "print(confusion_matrix(Y_test,Y_pred))\n",
        "#score is good but not better .will do much better \n",
        "#reason : model is overfit\n",
        "#apply regularisation means to reduce overfit \n",
        "#1. L1 means Lasso and L2 means Ridge and Dropout"
      ],
      "execution_count": null,
      "outputs": [
        {
          "output_type": "stream",
          "text": [
            "              precision    recall  f1-score   support\n",
            "\n",
            "           0       1.00      1.00      1.00     85308\n",
            "           1       0.36      0.84      0.50       135\n",
            "\n",
            "    accuracy                           1.00     85443\n",
            "   macro avg       0.68      0.92      0.75     85443\n",
            "weighted avg       1.00      1.00      1.00     85443\n",
            "\n",
            "[[85105   203]\n",
            " [   21   114]]\n"
          ],
          "name": "stdout"
        }
      ]
    },
    {
      "cell_type": "code",
      "metadata": {
        "id": "77q0P_ghCAti"
      },
      "source": [
        "from keras.layers import Dropout\n",
        "from keras import regularizers\n",
        "#apply regularisation and model2 user defined object of Sequential class \n",
        "model2 = tf.keras.Sequential([\n",
        "tf.keras.layers.Dense(1000, activation='relu', kernel_regularizer=regularizers.l2(0.01), input_shape=(X.shape[1],)),#first Hidden layer\n",
        "    Dropout(0.5),  #50% neuron deactivate\n",
        "  tf.keras.layers.Dense(1000, activation='relu', kernel_regularizer=regularizers.l2(0.01)),#hidden layer2\n",
        "    Dropout(0.5),\n",
        "tf.keras.layers.Dense(1000, activation='relu', kernel_regularizer=regularizers.l2(0.01)),#hidden layer3\n",
        "    Dropout(0.5),\n",
        "    tf.keras.layers.Dense(1000, activation='relu', kernel_regularizer=regularizers.l2(0.01)),#hidden layer4\n",
        "    Dropout(0.3),\n",
        "    tf.keras.layers.Dense(1000, activation='relu', kernel_regularizer=regularizers.l2(0.01)),#hidden layer4\n",
        "    Dropout(0.3),\n",
        "    tf.keras.layers.Dense(1, activation='sigmoid', kernel_regularizer=regularizers.l2(0.01)) #output layer\n",
        "])"
      ],
      "execution_count": null,
      "outputs": []
    },
    {
      "cell_type": "code",
      "metadata": {
        "id": "xPtAX8Mj_B09"
      },
      "source": [
        "#compile the model2\n",
        "from tensorflow import keras\n",
        "opt=keras.optimizers.Adam(learning_rate=0.01)\n",
        "model2.compile(optimizer='adam',loss='binary_crossentropy',metrics=['accuracy'])"
      ],
      "execution_count": null,
      "outputs": []
    },
    {
      "cell_type": "code",
      "metadata": {
        "colab": {
          "base_uri": "https://localhost:8080/"
        },
        "id": "7_rDwbny_B5A",
        "outputId": "b8ee7aef-5879-4093-cd57-925e5b7323ec"
      },
      "source": [
        "#Train the model\n",
        "\n",
        "trained_model2 = model2.fit(X_train,Y_train,batch_size=32,epochs=70,validation_data=(X_test, Y_test))"
      ],
      "execution_count": null,
      "outputs": [
        {
          "output_type": "stream",
          "text": [
            "Epoch 1/70\n",
            "6231/6231 [==============================] - 221s 35ms/step - loss: 0.1425 - accuracy: 0.9982 - val_loss: 0.0146 - val_accuracy: 0.9984\n",
            "Epoch 2/70\n",
            "6231/6231 [==============================] - 226s 36ms/step - loss: 0.0157 - accuracy: 0.9982 - val_loss: 0.0132 - val_accuracy: 0.9984\n",
            "Epoch 3/70\n",
            "6231/6231 [==============================] - 229s 37ms/step - loss: 0.0153 - accuracy: 0.9982 - val_loss: 0.0132 - val_accuracy: 0.9984\n",
            "Epoch 4/70\n",
            "6231/6231 [==============================] - 228s 37ms/step - loss: 0.0151 - accuracy: 0.9982 - val_loss: 0.0130 - val_accuracy: 0.9984\n",
            "Epoch 5/70\n",
            "6231/6231 [==============================] - 228s 37ms/step - loss: 0.0150 - accuracy: 0.9982 - val_loss: 0.0134 - val_accuracy: 0.9984\n",
            "Epoch 6/70\n",
            "6231/6231 [==============================] - 230s 37ms/step - loss: 0.0150 - accuracy: 0.9982 - val_loss: 0.0129 - val_accuracy: 0.9984\n",
            "Epoch 7/70\n",
            "6231/6231 [==============================] - 228s 37ms/step - loss: 0.0151 - accuracy: 0.9982 - val_loss: 0.0145 - val_accuracy: 0.9984\n",
            "Epoch 8/70\n",
            "6231/6231 [==============================] - 229s 37ms/step - loss: 0.0147 - accuracy: 0.9982 - val_loss: 0.0131 - val_accuracy: 0.9984\n",
            "Epoch 9/70\n",
            "6231/6231 [==============================] - 230s 37ms/step - loss: 0.0147 - accuracy: 0.9982 - val_loss: 0.0185 - val_accuracy: 0.9984\n",
            "Epoch 10/70\n",
            "6231/6231 [==============================] - 229s 37ms/step - loss: 0.0147 - accuracy: 0.9982 - val_loss: 0.0129 - val_accuracy: 0.9984\n",
            "Epoch 11/70\n",
            "6231/6231 [==============================] - 228s 37ms/step - loss: 0.0145 - accuracy: 0.9982 - val_loss: 0.0130 - val_accuracy: 0.9984\n",
            "Epoch 12/70\n",
            "6231/6231 [==============================] - 227s 36ms/step - loss: 0.0144 - accuracy: 0.9982 - val_loss: 0.0130 - val_accuracy: 0.9984\n",
            "Epoch 13/70\n",
            "6231/6231 [==============================] - 227s 36ms/step - loss: 0.0143 - accuracy: 0.9982 - val_loss: 0.0127 - val_accuracy: 0.9984\n",
            "Epoch 14/70\n",
            "6231/6231 [==============================] - 226s 36ms/step - loss: 0.0143 - accuracy: 0.9982 - val_loss: 0.0127 - val_accuracy: 0.9984\n",
            "Epoch 15/70\n",
            "6231/6231 [==============================] - 227s 36ms/step - loss: 0.0142 - accuracy: 0.9982 - val_loss: 0.0131 - val_accuracy: 0.9984\n",
            "Epoch 16/70\n",
            "6231/6231 [==============================] - 226s 36ms/step - loss: 0.0141 - accuracy: 0.9982 - val_loss: 0.0125 - val_accuracy: 0.9984\n",
            "Epoch 17/70\n",
            "6231/6231 [==============================] - 226s 36ms/step - loss: 0.0139 - accuracy: 0.9982 - val_loss: 0.0137 - val_accuracy: 0.9984\n",
            "Epoch 18/70\n",
            "6231/6231 [==============================] - 227s 36ms/step - loss: 0.0139 - accuracy: 0.9982 - val_loss: 0.0122 - val_accuracy: 0.9984\n",
            "Epoch 19/70\n",
            "6231/6231 [==============================] - 227s 36ms/step - loss: 0.0139 - accuracy: 0.9982 - val_loss: 0.0126 - val_accuracy: 0.9984\n",
            "Epoch 20/70\n",
            "6231/6231 [==============================] - 226s 36ms/step - loss: 0.0138 - accuracy: 0.9982 - val_loss: 0.0146 - val_accuracy: 0.9984\n",
            "Epoch 21/70\n",
            "6231/6231 [==============================] - 226s 36ms/step - loss: 0.0137 - accuracy: 0.9982 - val_loss: 0.0123 - val_accuracy: 0.9984\n",
            "Epoch 22/70\n",
            "6231/6231 [==============================] - 227s 36ms/step - loss: 0.0137 - accuracy: 0.9982 - val_loss: 0.0121 - val_accuracy: 0.9984\n",
            "Epoch 23/70\n",
            "6231/6231 [==============================] - 226s 36ms/step - loss: 0.0137 - accuracy: 0.9982 - val_loss: 0.0120 - val_accuracy: 0.9984\n",
            "Epoch 24/70\n",
            "6231/6231 [==============================] - 226s 36ms/step - loss: 0.0136 - accuracy: 0.9982 - val_loss: 0.0121 - val_accuracy: 0.9984\n",
            "Epoch 25/70\n",
            "6231/6231 [==============================] - 228s 37ms/step - loss: 0.0136 - accuracy: 0.9982 - val_loss: 0.0122 - val_accuracy: 0.9984\n",
            "Epoch 26/70\n",
            "6231/6231 [==============================] - 231s 37ms/step - loss: 0.0135 - accuracy: 0.9982 - val_loss: 0.0119 - val_accuracy: 0.9984\n",
            "Epoch 27/70\n",
            "6231/6231 [==============================] - 230s 37ms/step - loss: 0.0135 - accuracy: 0.9982 - val_loss: 0.0122 - val_accuracy: 0.9984\n",
            "Epoch 28/70\n",
            "6231/6231 [==============================] - 231s 37ms/step - loss: 0.0134 - accuracy: 0.9982 - val_loss: 0.0120 - val_accuracy: 0.9984\n",
            "Epoch 29/70\n",
            "6231/6231 [==============================] - 223s 36ms/step - loss: 0.0134 - accuracy: 0.9982 - val_loss: 0.0122 - val_accuracy: 0.9984\n",
            "Epoch 30/70\n",
            "6231/6231 [==============================] - 226s 36ms/step - loss: 0.0133 - accuracy: 0.9982 - val_loss: 0.0120 - val_accuracy: 0.9984\n",
            "Epoch 31/70\n",
            "6231/6231 [==============================] - 227s 36ms/step - loss: 0.0133 - accuracy: 0.9982 - val_loss: 0.0120 - val_accuracy: 0.9984\n",
            "Epoch 32/70\n",
            "6231/6231 [==============================] - 228s 37ms/step - loss: 0.0133 - accuracy: 0.9982 - val_loss: 0.0118 - val_accuracy: 0.9984\n",
            "Epoch 33/70\n",
            "6231/6231 [==============================] - 225s 36ms/step - loss: 0.0132 - accuracy: 0.9982 - val_loss: 0.0118 - val_accuracy: 0.9984\n",
            "Epoch 34/70\n",
            "6231/6231 [==============================] - 226s 36ms/step - loss: 0.0132 - accuracy: 0.9982 - val_loss: 0.0120 - val_accuracy: 0.9984\n",
            "Epoch 35/70\n",
            "6231/6231 [==============================] - 225s 36ms/step - loss: 0.0132 - accuracy: 0.9982 - val_loss: 0.0119 - val_accuracy: 0.9984\n",
            "Epoch 36/70\n",
            "6231/6231 [==============================] - 226s 36ms/step - loss: 0.0132 - accuracy: 0.9982 - val_loss: 0.0118 - val_accuracy: 0.9984\n",
            "Epoch 37/70\n",
            "6231/6231 [==============================] - 225s 36ms/step - loss: 0.0132 - accuracy: 0.9982 - val_loss: 0.0118 - val_accuracy: 0.9984\n",
            "Epoch 38/70\n",
            "6231/6231 [==============================] - 227s 36ms/step - loss: 0.0132 - accuracy: 0.9982 - val_loss: 0.0118 - val_accuracy: 0.9984\n",
            "Epoch 39/70\n",
            "6231/6231 [==============================] - 229s 37ms/step - loss: 0.0132 - accuracy: 0.9982 - val_loss: 0.0118 - val_accuracy: 0.9984\n",
            "Epoch 40/70\n",
            "6231/6231 [==============================] - 227s 36ms/step - loss: 0.0132 - accuracy: 0.9982 - val_loss: 0.0118 - val_accuracy: 0.9984\n",
            "Epoch 41/70\n",
            "6231/6231 [==============================] - 226s 36ms/step - loss: 0.0131 - accuracy: 0.9982 - val_loss: 0.0118 - val_accuracy: 0.9984\n",
            "Epoch 42/70\n",
            "6231/6231 [==============================] - 228s 37ms/step - loss: 0.0131 - accuracy: 0.9982 - val_loss: 0.0118 - val_accuracy: 0.9984\n",
            "Epoch 43/70\n",
            "6231/6231 [==============================] - 227s 36ms/step - loss: 0.0131 - accuracy: 0.9982 - val_loss: 0.0118 - val_accuracy: 0.9984\n",
            "Epoch 44/70\n",
            "6231/6231 [==============================] - 225s 36ms/step - loss: 0.0131 - accuracy: 0.9982 - val_loss: 0.0118 - val_accuracy: 0.9984\n",
            "Epoch 45/70\n",
            "6231/6231 [==============================] - 227s 36ms/step - loss: 0.0131 - accuracy: 0.9982 - val_loss: 0.0118 - val_accuracy: 0.9984\n",
            "Epoch 46/70\n",
            "6231/6231 [==============================] - 226s 36ms/step - loss: 0.0131 - accuracy: 0.9982 - val_loss: 0.0118 - val_accuracy: 0.9984\n",
            "Epoch 47/70\n",
            "6231/6231 [==============================] - 226s 36ms/step - loss: 0.0131 - accuracy: 0.9982 - val_loss: 0.0118 - val_accuracy: 0.9984\n",
            "Epoch 48/70\n",
            "6231/6231 [==============================] - 225s 36ms/step - loss: 0.0131 - accuracy: 0.9982 - val_loss: 0.0118 - val_accuracy: 0.9984\n",
            "Epoch 49/70\n",
            "6231/6231 [==============================] - 225s 36ms/step - loss: 0.0131 - accuracy: 0.9982 - val_loss: 0.0118 - val_accuracy: 0.9984\n",
            "Epoch 50/70\n",
            "6231/6231 [==============================] - 227s 36ms/step - loss: 0.0131 - accuracy: 0.9982 - val_loss: 0.0118 - val_accuracy: 0.9984\n",
            "Epoch 51/70\n",
            "6231/6231 [==============================] - 231s 37ms/step - loss: 0.0131 - accuracy: 0.9982 - val_loss: 0.0118 - val_accuracy: 0.9984\n",
            "Epoch 52/70\n",
            "6231/6231 [==============================] - 229s 37ms/step - loss: 0.0131 - accuracy: 0.9982 - val_loss: 0.0118 - val_accuracy: 0.9984\n",
            "Epoch 53/70\n",
            "6231/6231 [==============================] - 230s 37ms/step - loss: 0.0131 - accuracy: 0.9982 - val_loss: 0.0118 - val_accuracy: 0.9984\n",
            "Epoch 54/70\n",
            "6231/6231 [==============================] - 229s 37ms/step - loss: 0.0131 - accuracy: 0.9982 - val_loss: 0.0118 - val_accuracy: 0.9984\n",
            "Epoch 55/70\n",
            "6231/6231 [==============================] - 228s 37ms/step - loss: 0.0131 - accuracy: 0.9982 - val_loss: 0.0118 - val_accuracy: 0.9984\n",
            "Epoch 56/70\n",
            "6231/6231 [==============================] - 229s 37ms/step - loss: 0.0131 - accuracy: 0.9982 - val_loss: 0.0118 - val_accuracy: 0.9984\n",
            "Epoch 57/70\n",
            "6231/6231 [==============================] - 229s 37ms/step - loss: 0.0131 - accuracy: 0.9982 - val_loss: 0.0118 - val_accuracy: 0.9984\n",
            "Epoch 58/70\n",
            "6231/6231 [==============================] - 229s 37ms/step - loss: 0.0131 - accuracy: 0.9982 - val_loss: 0.0118 - val_accuracy: 0.9984\n",
            "Epoch 59/70\n",
            "6231/6231 [==============================] - 229s 37ms/step - loss: 0.0131 - accuracy: 0.9982 - val_loss: 0.0118 - val_accuracy: 0.9984\n",
            "Epoch 60/70\n",
            "6231/6231 [==============================] - 229s 37ms/step - loss: 0.0131 - accuracy: 0.9982 - val_loss: 0.0118 - val_accuracy: 0.9984\n",
            "Epoch 61/70\n",
            "6231/6231 [==============================] - 228s 37ms/step - loss: 0.0131 - accuracy: 0.9982 - val_loss: 0.0118 - val_accuracy: 0.9984\n",
            "Epoch 62/70\n",
            "6231/6231 [==============================] - 229s 37ms/step - loss: 0.0131 - accuracy: 0.9982 - val_loss: 0.0118 - val_accuracy: 0.9984\n",
            "Epoch 63/70\n",
            "6231/6231 [==============================] - 231s 37ms/step - loss: 0.0131 - accuracy: 0.9982 - val_loss: 0.0118 - val_accuracy: 0.9984\n",
            "Epoch 64/70\n",
            "6231/6231 [==============================] - 229s 37ms/step - loss: 0.0131 - accuracy: 0.9982 - val_loss: 0.0118 - val_accuracy: 0.9984\n",
            "Epoch 65/70\n",
            "6231/6231 [==============================] - 229s 37ms/step - loss: 0.0131 - accuracy: 0.9982 - val_loss: 0.0118 - val_accuracy: 0.9984\n",
            "Epoch 66/70\n",
            "6231/6231 [==============================] - 227s 36ms/step - loss: 0.0131 - accuracy: 0.9982 - val_loss: 0.0118 - val_accuracy: 0.9984\n",
            "Epoch 67/70\n",
            "6231/6231 [==============================] - 231s 37ms/step - loss: 0.0131 - accuracy: 0.9982 - val_loss: 0.0118 - val_accuracy: 0.9984\n",
            "Epoch 68/70\n",
            "6231/6231 [==============================] - 229s 37ms/step - loss: 0.0131 - accuracy: 0.9982 - val_loss: 0.0118 - val_accuracy: 0.9984\n",
            "Epoch 69/70\n",
            "6231/6231 [==============================] - 228s 37ms/step - loss: 0.0131 - accuracy: 0.9982 - val_loss: 0.0118 - val_accuracy: 0.9984\n",
            "Epoch 70/70\n",
            "6231/6231 [==============================] - 227s 36ms/step - loss: 0.0131 - accuracy: 0.9982 - val_loss: 0.0118 - val_accuracy: 0.9984\n"
          ],
          "name": "stdout"
        }
      ]
    },
    {
      "cell_type": "code",
      "metadata": {
        "colab": {
          "base_uri": "https://localhost:8080/"
        },
        "id": "m8nFxyba0T8T",
        "outputId": "a125c0a0-c35c-4ba1-d390-29c1c0d77e2b"
      },
      "source": [
        "print(\"Testing Error and Accuracy of Testing Data : \",model2.evaluate(X_test, Y_test) )\n",
        "print(\"Training Error and Accuracy of Training Data : \",model2.evaluate(X_train, Y_train) )"
      ],
      "execution_count": null,
      "outputs": [
        {
          "output_type": "stream",
          "text": [
            "2671/2671 [==============================] - 24s 9ms/step - loss: 0.0118 - accuracy: 0.9984\n",
            "Testing Error and Accuracy of Testing Data :  [0.011787524446845055, 0.998420000076294]\n",
            "6231/6231 [==============================] - 57s 9ms/step - loss: 0.0131 - accuracy: 0.9982\n",
            "Training Error and Accuracy of Training Data :  [0.013124129734933376, 0.9982092976570129]\n"
          ],
          "name": "stdout"
        }
      ]
    },
    {
      "cell_type": "code",
      "metadata": {
        "colab": {
          "base_uri": "https://localhost:8080/",
          "height": 295
        },
        "id": "bbrcYU8k0T-k",
        "outputId": "d9685d90-9b66-4e6b-93db-ee6c10f7f0f3"
      },
      "source": [
        "plt.plot(trained_model2.history['loss']) #training\n",
        "plt.plot(trained_model2.history['val_loss'])#testing\n",
        "plt.title('Model loss')\n",
        "plt.ylabel('Loss')\n",
        "plt.xlabel('Epoch')\n",
        "plt.legend(['Train', 'Val'], loc='upper right')\n",
        "plt.show()"
      ],
      "execution_count": null,
      "outputs": [
        {
          "output_type": "display_data",
          "data": {
            "image/png": "[encoded data removed]",
            "text/plain": [
              "<Figure size 432x288 with 1 Axes>"
            ]
          },
          "metadata": {
            "tags": [],
            "needs_background": "light"
          }
        }
      ]
    },
    {
      "cell_type": "code",
      "metadata": {
        "colab": {
          "base_uri": "https://localhost:8080/",
          "height": 295
        },
        "id": "fLrm8_yq0UDg",
        "outputId": "84ed75f8-147b-405e-a59f-51e1ab7bc6db"
      },
      "source": [
        "plt.plot(trained_model2.history['accuracy']) #training score\n",
        "plt.plot(trained_model2.history['val_accuracy'])#testing score\n",
        "plt.title('Model Accuracy')  \n",
        "plt.ylabel('Accuracy')\n",
        "plt.xlabel('Epoch')\n",
        "plt.legend(['Train', 'Val'], loc='upper right')\n",
        "plt.show()"
      ],
      "execution_count": null,
      "outputs": [
        {
          "output_type": "display_data",
          "data": {
            "image/png": "[encoded data removed]",
            "text/plain": [
              "<Figure size 432x288 with 1 Axes>"
            ]
          },
          "metadata": {
            "tags": [],
            "needs_background": "light"
          }
        }
      ]
    },
    {
      "cell_type": "code",
      "metadata": {
        "id": "EUZGy60Ry9ww"
      },
      "source": [
        "Y_pred=model2.predict(X_test)"
      ],
      "execution_count": null,
      "outputs": []
    },
    {
      "cell_type": "code",
      "metadata": {
        "colab": {
          "base_uri": "https://localhost:8080/"
        },
        "id": "IFw3hRolwlPN",
        "outputId": "8c01f130-8b6f-411d-8429-a400b208af76"
      },
      "source": [
        "print(Y_pred)"
      ],
      "execution_count": null,
      "outputs": [
        {
          "output_type": "stream",
          "text": [
            "[[0.0017527]\n",
            " [0.0017527]\n",
            " [0.0017527]\n",
            " ...\n",
            " [0.0017527]\n",
            " [0.0017527]\n",
            " [0.0017527]]\n"
          ],
          "name": "stdout"
        }
      ]
    },
    {
      "cell_type": "code",
      "metadata": {
        "id": "YVwjySKIy9yy"
      },
      "source": [
        "Y_pred=np.where(Y_pred>=0.5,1,0)"
      ],
      "execution_count": null,
      "outputs": []
    },
    {
      "cell_type": "code",
      "metadata": {
        "colab": {
          "base_uri": "https://localhost:8080/"
        },
        "id": "dW7rR-oCwp0e",
        "outputId": "45a373e6-1e37-4bcb-feac-cf5fd97364a8"
      },
      "source": [
        "print(Y_pred)"
      ],
      "execution_count": null,
      "outputs": [
        {
          "output_type": "stream",
          "text": [
            "[[0]\n",
            " [0]\n",
            " [0]\n",
            " ...\n",
            " [0]\n",
            " [0]\n",
            " [0]]\n"
          ],
          "name": "stdout"
        }
      ]
    },
    {
      "cell_type": "code",
      "metadata": {
        "id": "wLNayhjuy923",
        "colab": {
          "base_uri": "https://localhost:8080/"
        },
        "outputId": "c32c1b68-8d35-41a0-e17f-5325b094f0a3"
      },
      "source": [
        "#Generate Classification report and confusion matrix\n",
        "print(classification_report(Y_test,Y_pred))\n",
        "print(confusion_matrix(Y_test,Y_pred))"
      ],
      "execution_count": null,
      "outputs": [
        {
          "output_type": "stream",
          "text": [
            "              precision    recall  f1-score   support\n",
            "\n",
            "           0       1.00      1.00      1.00     85308\n",
            "           1       0.00      0.00      0.00       135\n",
            "\n",
            "    accuracy                           1.00     85443\n",
            "   macro avg       0.50      0.50      0.50     85443\n",
            "weighted avg       1.00      1.00      1.00     85443\n",
            "\n",
            "[[85308     0]\n",
            " [  135     0]]\n"
          ],
          "name": "stdout"
        },
        {
          "output_type": "stream",
          "text": [
            "/usr/local/lib/python3.7/dist-packages/sklearn/metrics/_classification.py:1272: UndefinedMetricWarning: Precision and F-score are ill-defined and being set to 0.0 in labels with no predicted samples. Use `zero_division` parameter to control this behavior.\n",
            "  _warn_prf(average, modifier, msg_start, len(result))\n"
          ],
          "name": "stderr"
        }
      ]
    }
  ]
}